{
 "cells": [
  {
   "cell_type": "code",
   "execution_count": 30,
   "metadata": {},
   "outputs": [],
   "source": [
    "import copy\n",
    "from pathlib import Path\n",
    "import warnings\n",
    "\n",
    "import lightning.pytorch as pl\n",
    "from lightning.pytorch.callbacks import EarlyStopping, LearningRateMonitor\n",
    "from lightning.pytorch.loggers import TensorBoardLogger\n",
    "import numpy as np\n",
    "import pandas as pd\n",
    "import torch\n",
    "\n",
    "from pytorch_forecasting import Baseline, TemporalFusionTransformer, TimeSeriesDataSet\n",
    "from pytorch_forecasting.data import GroupNormalizer\n",
    "from pytorch_forecasting.metrics import MAE, SMAPE, PoissonLoss, QuantileLoss\n",
    "from pytorch_forecasting.models.temporal_fusion_transformer.tuning import optimize_hyperparameters\n"
   ]
  },
  {
   "cell_type": "code",
   "execution_count": 10,
   "metadata": {},
   "outputs": [
    {
     "data": {
      "text/plain": [
       "Index(['id', 'valeur_NO2', 'valeur_CO', 'valeur_O3', 'valeur_PM10',\n",
       "       'valeur_PM25', 'is_holiday', 'is_jour_ferie', 'precipitation',\n",
       "       'wind_speed', 'temperature', 'humidity', 'pressure', 'visibility',\n",
       "       'global_solar_radiation', 'car_flow', 'Year', 'Month', 'Day',\n",
       "       'is_weekend', 'DayOfYear', 'HourOfDay', 'Weekday', 'DayOfYear_sin',\n",
       "       'DayOfYear_cos', 'HourOfDay_sin', 'HourOfDay_cos', 'Weekday_sin',\n",
       "       'Weekday_cos'],\n",
       "      dtype='object')"
      ]
     },
     "execution_count": 10,
     "metadata": {},
     "output_type": "execute_result"
    }
   ],
   "source": [
    "data_train = pd.read_csv('data/train_preprocessed.csv')\n",
    "data_train.columns"
   ]
  },
  {
   "cell_type": "code",
   "execution_count": 11,
   "metadata": {},
   "outputs": [],
   "source": [
    "data_train.drop(index=35065, inplace=True)"
   ]
  },
  {
   "cell_type": "code",
   "execution_count": 12,
   "metadata": {},
   "outputs": [],
   "source": [
    "# Assuming `data` is your DataFrame and `id` is the timestamp column\n",
    "data_train['id'] = pd.to_datetime(data_train['id'])\n",
    "data_train = data_train.copy()\n",
    "data_train['time_idx'] = (data_train['id'] - data_train['id'].min()) / pd.Timedelta(hours=1)\n",
    "data_train['time_idx'] = data_train['time_idx'].astype(int)\n",
    "data_train['location']=\"Montsouris\"\n",
    "data_train['car_flow'] = data_train['car_flow'].fillna(-1)"
   ]
  },
  {
   "cell_type": "code",
   "execution_count": 13,
   "metadata": {},
   "outputs": [
    {
     "data": {
      "text/html": [
       "<div>\n",
       "<style scoped>\n",
       "    .dataframe tbody tr th:only-of-type {\n",
       "        vertical-align: middle;\n",
       "    }\n",
       "\n",
       "    .dataframe tbody tr th {\n",
       "        vertical-align: top;\n",
       "    }\n",
       "\n",
       "    .dataframe thead th {\n",
       "        text-align: right;\n",
       "    }\n",
       "</style>\n",
       "<table border=\"1\" class=\"dataframe\">\n",
       "  <thead>\n",
       "    <tr style=\"text-align: right;\">\n",
       "      <th></th>\n",
       "      <th>id</th>\n",
       "      <th>valeur_NO2</th>\n",
       "      <th>valeur_CO</th>\n",
       "      <th>valeur_O3</th>\n",
       "      <th>valeur_PM10</th>\n",
       "      <th>valeur_PM25</th>\n",
       "      <th>is_holiday</th>\n",
       "      <th>is_jour_ferie</th>\n",
       "      <th>precipitation</th>\n",
       "      <th>wind_speed</th>\n",
       "      <th>...</th>\n",
       "      <th>HourOfDay</th>\n",
       "      <th>Weekday</th>\n",
       "      <th>DayOfYear_sin</th>\n",
       "      <th>DayOfYear_cos</th>\n",
       "      <th>HourOfDay_sin</th>\n",
       "      <th>HourOfDay_cos</th>\n",
       "      <th>Weekday_sin</th>\n",
       "      <th>Weekday_cos</th>\n",
       "      <th>time_idx</th>\n",
       "      <th>location</th>\n",
       "    </tr>\n",
       "  </thead>\n",
       "  <tbody>\n",
       "    <tr>\n",
       "      <th>0</th>\n",
       "      <td>2020-01-01 00:00:00</td>\n",
       "      <td>42.900000</td>\n",
       "      <td>0.718000</td>\n",
       "      <td>15.7</td>\n",
       "      <td>73.1</td>\n",
       "      <td>64.4</td>\n",
       "      <td>1</td>\n",
       "      <td>0</td>\n",
       "      <td>0.0</td>\n",
       "      <td>1.5</td>\n",
       "      <td>...</td>\n",
       "      <td>0</td>\n",
       "      <td>2</td>\n",
       "      <td>0.017213</td>\n",
       "      <td>0.999852</td>\n",
       "      <td>0.000000</td>\n",
       "      <td>1.000000e+00</td>\n",
       "      <td>0.974928</td>\n",
       "      <td>-0.222521</td>\n",
       "      <td>0</td>\n",
       "      <td>Montsouris</td>\n",
       "    </tr>\n",
       "    <tr>\n",
       "      <th>1</th>\n",
       "      <td>2020-01-01 01:00:00</td>\n",
       "      <td>33.600000</td>\n",
       "      <td>0.587000</td>\n",
       "      <td>10.1</td>\n",
       "      <td>74.8</td>\n",
       "      <td>66.0</td>\n",
       "      <td>1</td>\n",
       "      <td>0</td>\n",
       "      <td>0.0</td>\n",
       "      <td>2.6</td>\n",
       "      <td>...</td>\n",
       "      <td>1</td>\n",
       "      <td>2</td>\n",
       "      <td>0.017213</td>\n",
       "      <td>0.999852</td>\n",
       "      <td>0.258819</td>\n",
       "      <td>9.659258e-01</td>\n",
       "      <td>0.974928</td>\n",
       "      <td>-0.222521</td>\n",
       "      <td>1</td>\n",
       "      <td>Montsouris</td>\n",
       "    </tr>\n",
       "    <tr>\n",
       "      <th>2</th>\n",
       "      <td>2020-01-01 02:00:00</td>\n",
       "      <td>29.300000</td>\n",
       "      <td>0.400655</td>\n",
       "      <td>5.1</td>\n",
       "      <td>51.0</td>\n",
       "      <td>44.9</td>\n",
       "      <td>1</td>\n",
       "      <td>0</td>\n",
       "      <td>0.0</td>\n",
       "      <td>1.9</td>\n",
       "      <td>...</td>\n",
       "      <td>2</td>\n",
       "      <td>2</td>\n",
       "      <td>0.017213</td>\n",
       "      <td>0.999852</td>\n",
       "      <td>0.500000</td>\n",
       "      <td>8.660254e-01</td>\n",
       "      <td>0.974928</td>\n",
       "      <td>-0.222521</td>\n",
       "      <td>2</td>\n",
       "      <td>Montsouris</td>\n",
       "    </tr>\n",
       "    <tr>\n",
       "      <th>3</th>\n",
       "      <td>2020-01-01 03:00:00</td>\n",
       "      <td>30.500000</td>\n",
       "      <td>0.246000</td>\n",
       "      <td>7.2</td>\n",
       "      <td>27.7</td>\n",
       "      <td>25.1</td>\n",
       "      <td>1</td>\n",
       "      <td>0</td>\n",
       "      <td>0.0</td>\n",
       "      <td>1.8</td>\n",
       "      <td>...</td>\n",
       "      <td>3</td>\n",
       "      <td>2</td>\n",
       "      <td>0.017213</td>\n",
       "      <td>0.999852</td>\n",
       "      <td>0.707107</td>\n",
       "      <td>7.071068e-01</td>\n",
       "      <td>0.974928</td>\n",
       "      <td>-0.222521</td>\n",
       "      <td>3</td>\n",
       "      <td>Montsouris</td>\n",
       "    </tr>\n",
       "    <tr>\n",
       "      <th>4</th>\n",
       "      <td>2020-01-01 04:00:00</td>\n",
       "      <td>29.300000</td>\n",
       "      <td>0.204000</td>\n",
       "      <td>8.3</td>\n",
       "      <td>15.3</td>\n",
       "      <td>13.6</td>\n",
       "      <td>1</td>\n",
       "      <td>0</td>\n",
       "      <td>0.0</td>\n",
       "      <td>2.2</td>\n",
       "      <td>...</td>\n",
       "      <td>4</td>\n",
       "      <td>2</td>\n",
       "      <td>0.017213</td>\n",
       "      <td>0.999852</td>\n",
       "      <td>0.866025</td>\n",
       "      <td>5.000000e-01</td>\n",
       "      <td>0.974928</td>\n",
       "      <td>-0.222521</td>\n",
       "      <td>4</td>\n",
       "      <td>Montsouris</td>\n",
       "    </tr>\n",
       "    <tr>\n",
       "      <th>...</th>\n",
       "      <td>...</td>\n",
       "      <td>...</td>\n",
       "      <td>...</td>\n",
       "      <td>...</td>\n",
       "      <td>...</td>\n",
       "      <td>...</td>\n",
       "      <td>...</td>\n",
       "      <td>...</td>\n",
       "      <td>...</td>\n",
       "      <td>...</td>\n",
       "      <td>...</td>\n",
       "      <td>...</td>\n",
       "      <td>...</td>\n",
       "      <td>...</td>\n",
       "      <td>...</td>\n",
       "      <td>...</td>\n",
       "      <td>...</td>\n",
       "      <td>...</td>\n",
       "      <td>...</td>\n",
       "      <td>...</td>\n",
       "      <td>...</td>\n",
       "    </tr>\n",
       "    <tr>\n",
       "      <th>40987</th>\n",
       "      <td>2024-09-03 18:00:00</td>\n",
       "      <td>10.991566</td>\n",
       "      <td>0.222000</td>\n",
       "      <td>55.1</td>\n",
       "      <td>12.0</td>\n",
       "      <td>5.3</td>\n",
       "      <td>0</td>\n",
       "      <td>0</td>\n",
       "      <td>0.0</td>\n",
       "      <td>1.2</td>\n",
       "      <td>...</td>\n",
       "      <td>18</td>\n",
       "      <td>1</td>\n",
       "      <td>-0.895839</td>\n",
       "      <td>-0.444378</td>\n",
       "      <td>-1.000000</td>\n",
       "      <td>-1.836970e-16</td>\n",
       "      <td>0.781831</td>\n",
       "      <td>0.623490</td>\n",
       "      <td>40986</td>\n",
       "      <td>Montsouris</td>\n",
       "    </tr>\n",
       "    <tr>\n",
       "      <th>40988</th>\n",
       "      <td>2024-09-03 19:00:00</td>\n",
       "      <td>14.015630</td>\n",
       "      <td>0.245000</td>\n",
       "      <td>48.2</td>\n",
       "      <td>13.4</td>\n",
       "      <td>7.0</td>\n",
       "      <td>0</td>\n",
       "      <td>0</td>\n",
       "      <td>0.0</td>\n",
       "      <td>1.7</td>\n",
       "      <td>...</td>\n",
       "      <td>19</td>\n",
       "      <td>1</td>\n",
       "      <td>-0.895839</td>\n",
       "      <td>-0.444378</td>\n",
       "      <td>-0.965926</td>\n",
       "      <td>2.588190e-01</td>\n",
       "      <td>0.781831</td>\n",
       "      <td>0.623490</td>\n",
       "      <td>40987</td>\n",
       "      <td>Montsouris</td>\n",
       "    </tr>\n",
       "    <tr>\n",
       "      <th>40989</th>\n",
       "      <td>2024-09-03 20:00:00</td>\n",
       "      <td>14.545385</td>\n",
       "      <td>0.234000</td>\n",
       "      <td>44.5</td>\n",
       "      <td>12.4</td>\n",
       "      <td>7.1</td>\n",
       "      <td>0</td>\n",
       "      <td>0</td>\n",
       "      <td>0.0</td>\n",
       "      <td>2.0</td>\n",
       "      <td>...</td>\n",
       "      <td>20</td>\n",
       "      <td>1</td>\n",
       "      <td>-0.895839</td>\n",
       "      <td>-0.444378</td>\n",
       "      <td>-0.866025</td>\n",
       "      <td>5.000000e-01</td>\n",
       "      <td>0.781831</td>\n",
       "      <td>0.623490</td>\n",
       "      <td>40988</td>\n",
       "      <td>Montsouris</td>\n",
       "    </tr>\n",
       "    <tr>\n",
       "      <th>40990</th>\n",
       "      <td>2024-09-03 21:00:00</td>\n",
       "      <td>20.489943</td>\n",
       "      <td>0.225000</td>\n",
       "      <td>25.9</td>\n",
       "      <td>10.6</td>\n",
       "      <td>5.4</td>\n",
       "      <td>0</td>\n",
       "      <td>0</td>\n",
       "      <td>0.0</td>\n",
       "      <td>1.4</td>\n",
       "      <td>...</td>\n",
       "      <td>21</td>\n",
       "      <td>1</td>\n",
       "      <td>-0.895839</td>\n",
       "      <td>-0.444378</td>\n",
       "      <td>-0.707107</td>\n",
       "      <td>7.071068e-01</td>\n",
       "      <td>0.781831</td>\n",
       "      <td>0.623490</td>\n",
       "      <td>40989</td>\n",
       "      <td>Montsouris</td>\n",
       "    </tr>\n",
       "    <tr>\n",
       "      <th>40991</th>\n",
       "      <td>2024-09-03 22:00:00</td>\n",
       "      <td>14.404213</td>\n",
       "      <td>0.184000</td>\n",
       "      <td>37.7</td>\n",
       "      <td>8.5</td>\n",
       "      <td>4.6</td>\n",
       "      <td>0</td>\n",
       "      <td>0</td>\n",
       "      <td>0.0</td>\n",
       "      <td>2.0</td>\n",
       "      <td>...</td>\n",
       "      <td>22</td>\n",
       "      <td>1</td>\n",
       "      <td>-0.895839</td>\n",
       "      <td>-0.444378</td>\n",
       "      <td>-0.500000</td>\n",
       "      <td>8.660254e-01</td>\n",
       "      <td>0.781831</td>\n",
       "      <td>0.623490</td>\n",
       "      <td>40990</td>\n",
       "      <td>Montsouris</td>\n",
       "    </tr>\n",
       "  </tbody>\n",
       "</table>\n",
       "<p>40991 rows × 31 columns</p>\n",
       "</div>"
      ],
      "text/plain": [
       "                       id  valeur_NO2  valeur_CO  valeur_O3  valeur_PM10  \\\n",
       "0     2020-01-01 00:00:00   42.900000   0.718000       15.7         73.1   \n",
       "1     2020-01-01 01:00:00   33.600000   0.587000       10.1         74.8   \n",
       "2     2020-01-01 02:00:00   29.300000   0.400655        5.1         51.0   \n",
       "3     2020-01-01 03:00:00   30.500000   0.246000        7.2         27.7   \n",
       "4     2020-01-01 04:00:00   29.300000   0.204000        8.3         15.3   \n",
       "...                   ...         ...        ...        ...          ...   \n",
       "40987 2024-09-03 18:00:00   10.991566   0.222000       55.1         12.0   \n",
       "40988 2024-09-03 19:00:00   14.015630   0.245000       48.2         13.4   \n",
       "40989 2024-09-03 20:00:00   14.545385   0.234000       44.5         12.4   \n",
       "40990 2024-09-03 21:00:00   20.489943   0.225000       25.9         10.6   \n",
       "40991 2024-09-03 22:00:00   14.404213   0.184000       37.7          8.5   \n",
       "\n",
       "       valeur_PM25  is_holiday  is_jour_ferie  precipitation  wind_speed  ...  \\\n",
       "0             64.4           1              0            0.0         1.5  ...   \n",
       "1             66.0           1              0            0.0         2.6  ...   \n",
       "2             44.9           1              0            0.0         1.9  ...   \n",
       "3             25.1           1              0            0.0         1.8  ...   \n",
       "4             13.6           1              0            0.0         2.2  ...   \n",
       "...            ...         ...            ...            ...         ...  ...   \n",
       "40987          5.3           0              0            0.0         1.2  ...   \n",
       "40988          7.0           0              0            0.0         1.7  ...   \n",
       "40989          7.1           0              0            0.0         2.0  ...   \n",
       "40990          5.4           0              0            0.0         1.4  ...   \n",
       "40991          4.6           0              0            0.0         2.0  ...   \n",
       "\n",
       "       HourOfDay  Weekday  DayOfYear_sin  DayOfYear_cos  HourOfDay_sin  \\\n",
       "0              0        2       0.017213       0.999852       0.000000   \n",
       "1              1        2       0.017213       0.999852       0.258819   \n",
       "2              2        2       0.017213       0.999852       0.500000   \n",
       "3              3        2       0.017213       0.999852       0.707107   \n",
       "4              4        2       0.017213       0.999852       0.866025   \n",
       "...          ...      ...            ...            ...            ...   \n",
       "40987         18        1      -0.895839      -0.444378      -1.000000   \n",
       "40988         19        1      -0.895839      -0.444378      -0.965926   \n",
       "40989         20        1      -0.895839      -0.444378      -0.866025   \n",
       "40990         21        1      -0.895839      -0.444378      -0.707107   \n",
       "40991         22        1      -0.895839      -0.444378      -0.500000   \n",
       "\n",
       "       HourOfDay_cos  Weekday_sin  Weekday_cos  time_idx    location  \n",
       "0       1.000000e+00     0.974928    -0.222521         0  Montsouris  \n",
       "1       9.659258e-01     0.974928    -0.222521         1  Montsouris  \n",
       "2       8.660254e-01     0.974928    -0.222521         2  Montsouris  \n",
       "3       7.071068e-01     0.974928    -0.222521         3  Montsouris  \n",
       "4       5.000000e-01     0.974928    -0.222521         4  Montsouris  \n",
       "...              ...          ...          ...       ...         ...  \n",
       "40987  -1.836970e-16     0.781831     0.623490     40986  Montsouris  \n",
       "40988   2.588190e-01     0.781831     0.623490     40987  Montsouris  \n",
       "40989   5.000000e-01     0.781831     0.623490     40988  Montsouris  \n",
       "40990   7.071068e-01     0.781831     0.623490     40989  Montsouris  \n",
       "40991   8.660254e-01     0.781831     0.623490     40990  Montsouris  \n",
       "\n",
       "[40991 rows x 31 columns]"
      ]
     },
     "execution_count": 13,
     "metadata": {},
     "output_type": "execute_result"
    }
   ],
   "source": [
    "data_train"
   ]
  },
  {
   "cell_type": "code",
   "execution_count": 14,
   "metadata": {},
   "outputs": [
    {
     "data": {
      "text/plain": [
       "Index(['id', 'valeur_NO2', 'valeur_CO', 'valeur_O3', 'valeur_PM10',\n",
       "       'valeur_PM25', 'is_holiday', 'is_jour_ferie', 'precipitation',\n",
       "       'wind_speed', 'temperature', 'humidity', 'pressure', 'visibility',\n",
       "       'global_solar_radiation', 'car_flow', 'Year', 'Month', 'Day',\n",
       "       'is_weekend', 'DayOfYear', 'HourOfDay', 'Weekday', 'DayOfYear_sin',\n",
       "       'DayOfYear_cos', 'HourOfDay_sin', 'HourOfDay_cos', 'Weekday_sin',\n",
       "       'Weekday_cos', 'time_idx', 'location'],\n",
       "      dtype='object')"
      ]
     },
     "execution_count": 14,
     "metadata": {},
     "output_type": "execute_result"
    }
   ],
   "source": [
    "data_train.columns"
   ]
  },
  {
   "cell_type": "code",
   "execution_count": 20,
   "metadata": {},
   "outputs": [
    {
     "data": {
      "text/plain": [
       "0        holiday\n",
       "1        holiday\n",
       "2        holiday\n",
       "3        holiday\n",
       "4        holiday\n",
       "          ...   \n",
       "40987        nan\n",
       "40988        nan\n",
       "40989        nan\n",
       "40990        nan\n",
       "40991        nan\n",
       "Name: holiday_type, Length: 40991, dtype: object"
      ]
     },
     "execution_count": 20,
     "metadata": {},
     "output_type": "execute_result"
    }
   ],
   "source": [
    "data_train['holiday_type'] = np.where(data_train['is_holiday'] == 1, 'holiday', \n",
    "                              np.where(data_train['is_jour_ferie'] == 1, 'ferie', np.nan))\n",
    "data_train = data_train.drop(columns=['is_holiday','is_jour_ferie'])\n",
    "data_train['holiday_type']"
   ]
  },
  {
   "cell_type": "code",
   "execution_count": 21,
   "metadata": {},
   "outputs": [
    {
     "data": {
      "text/plain": [
       "Index(['id', 'valeur_NO2', 'valeur_CO', 'valeur_O3', 'valeur_PM10',\n",
       "       'valeur_PM25', 'precipitation', 'wind_speed', 'temperature', 'humidity',\n",
       "       'pressure', 'visibility', 'global_solar_radiation', 'car_flow', 'Year',\n",
       "       'Month', 'Day', 'is_weekend', 'DayOfYear', 'HourOfDay', 'Weekday',\n",
       "       'DayOfYear_sin', 'DayOfYear_cos', 'HourOfDay_sin', 'HourOfDay_cos',\n",
       "       'Weekday_sin', 'Weekday_cos', 'time_idx', 'location', 'holiday_type'],\n",
       "      dtype='object')"
      ]
     },
     "execution_count": 21,
     "metadata": {},
     "output_type": "execute_result"
    }
   ],
   "source": [
    "data_train.columns"
   ]
  },
  {
   "cell_type": "code",
   "execution_count": 24,
   "metadata": {},
   "outputs": [],
   "source": [
    "max_prediction_length = 502\n",
    "max_encoder_length = 365*24*3"
   ]
  },
  {
   "cell_type": "code",
   "execution_count": 27,
   "metadata": {},
   "outputs": [
    {
     "data": {
      "text/plain": [
       "40488"
      ]
     },
     "execution_count": 27,
     "metadata": {},
     "output_type": "execute_result"
    }
   ],
   "source": [
    "training_cutoff = data_train[\"time_idx\"].max() - max_prediction_length\n",
    "training_cutoff"
   ]
  },
  {
   "cell_type": "code",
   "execution_count": 33,
   "metadata": {},
   "outputs": [],
   "source": [
    "data_train['Year'] = data_train['Year'].astype(str)\n",
    "data_train['Month'] = data_train['Month'].astype(str)\n",
    "data_train['Day'] = data_train['Day'].astype(str)\n",
    "data_train['is_weekend'] = data_train['is_weekend'].astype(str)\n",
    "data_train['DayOfYear'] = data_train['DayOfYear'].astype(str)\n",
    "data_train['HourOfDay'] = data_train['HourOfDay'].astype(str)\n",
    "data_train['Weekday'] = data_train['Weekday'].astype(str)"
   ]
  },
  {
   "cell_type": "code",
   "execution_count": 36,
   "metadata": {},
   "outputs": [],
   "source": [
    "training = TimeSeriesDataSet(\n",
    "    data_train[lambda x: x.time_idx <= training_cutoff],\n",
    "    time_idx=\"time_idx\",\n",
    "    target=['valeur_NO2', 'valeur_CO', 'valeur_O3', 'valeur_PM10','valeur_PM25'],\n",
    "    group_ids=[\"location\"],\n",
    "    min_encoder_length=max_encoder_length // 2,  # keep encoder length long (as it is in the validation set)\n",
    "    max_encoder_length=max_encoder_length,\n",
    "    min_prediction_length=1,\n",
    "    max_prediction_length=max_prediction_length,\n",
    "    time_varying_known_categoricals=['Year','Month', 'Day', 'is_weekend','DayOfYear', 'HourOfDay', 'Weekday','holiday_type'],\n",
    "    time_varying_known_reals=[\"time_idx\", 'DayOfYear_sin', 'DayOfYear_cos', 'HourOfDay_sin', 'HourOfDay_cos','Weekday_sin', 'Weekday_cos','precipitation', 'wind_speed', 'temperature', 'humidity','pressure', 'visibility', 'global_solar_radiation'],\n",
    "    time_varying_unknown_categoricals=[],\n",
    "    time_varying_unknown_reals=[\n",
    "        'valeur_NO2',\n",
    "        'valeur_CO',\n",
    "        'valeur_O3',\n",
    "        'valeur_PM10',\n",
    "        'valeur_PM25',\n",
    "        'car_flow'\n",
    "    ]\n",
    ")"
   ]
  },
  {
   "cell_type": "code",
   "execution_count": 40,
   "metadata": {},
   "outputs": [],
   "source": [
    "validation = TimeSeriesDataSet.from_dataset(training, data_train, predict=True, stop_randomization=True)"
   ]
  },
  {
   "cell_type": "code",
   "execution_count": 41,
   "metadata": {},
   "outputs": [],
   "source": [
    "batch_size = 128  # set this between 32 to 128\n",
    "train_dataloader = training.to_dataloader(train=True, batch_size=batch_size, num_workers=0)\n",
    "val_dataloader = validation.to_dataloader(train=False, batch_size=batch_size * 10, num_workers=0)"
   ]
  },
  {
   "cell_type": "code",
   "execution_count": 46,
   "metadata": {},
   "outputs": [
    {
     "name": "stderr",
     "output_type": "stream",
     "text": [
      "2024-10-30 18:16:49.554664: E external/local_xla/xla/stream_executor/cuda/cuda_fft.cc:477] Unable to register cuFFT factory: Attempting to register factory for plugin cuFFT when one has already been registered\n",
      "WARNING: All log messages before absl::InitializeLog() is called are written to STDERR\n",
      "E0000 00:00:1730312209.567741   48782 cuda_dnn.cc:8310] Unable to register cuDNN factory: Attempting to register factory for plugin cuDNN when one has already been registered\n",
      "E0000 00:00:1730312209.571841   48782 cuda_blas.cc:1418] Unable to register cuBLAS factory: Attempting to register factory for plugin cuBLAS when one has already been registered\n",
      "2024-10-30 18:16:49.589455: I tensorflow/core/platform/cpu_feature_guard.cc:210] This TensorFlow binary is optimized to use available CPU instructions in performance-critical operations.\n",
      "To enable the following instructions: AVX2 FMA, in other operations, rebuild TensorFlow with the appropriate compiler flags.\n"
     ]
    }
   ],
   "source": [
    "import tensorflow as tf\n",
    "import tensorboard as tb"
   ]
  },
  {
   "cell_type": "code",
   "execution_count": 48,
   "metadata": {},
   "outputs": [],
   "source": [
    "early_stop_callback = EarlyStopping(monitor=\"val_loss\", min_delta=1e-4, patience=10, verbose=False, mode=\"min\")"
   ]
  },
  {
   "cell_type": "code",
   "execution_count": 49,
   "metadata": {},
   "outputs": [
    {
     "name": "stderr",
     "output_type": "stream",
     "text": [
      "GPU available: False, used: False\n",
      "TPU available: False, using: 0 TPU cores\n",
      "HPU available: False, using: 0 HPUs\n"
     ]
    },
    {
     "name": "stdout",
     "output_type": "stream",
     "text": [
      "Number of parameters in network: 49.2k\n"
     ]
    },
    {
     "name": "stderr",
     "output_type": "stream",
     "text": [
      "/home/jovyan/.conda/myenv/lib/python3.10/site-packages/lightning/pytorch/utilities/parsing.py:208: Attribute 'loss' is an instance of `nn.Module` and is already saved during checkpointing. It is recommended to ignore them using `self.save_hyperparameters(ignore=['loss'])`.\n",
      "/home/jovyan/.conda/myenv/lib/python3.10/site-packages/lightning/pytorch/utilities/parsing.py:208: Attribute 'logging_metrics' is an instance of `nn.Module` and is already saved during checkpointing. It is recommended to ignore them using `self.save_hyperparameters(ignore=['logging_metrics'])`.\n"
     ]
    }
   ],
   "source": [
    "trainer = pl.Trainer(\n",
    "    max_epochs=50,\n",
    "    accelerator=\"cpu\",\n",
    "    enable_model_summary=True,\n",
    "    gradient_clip_val=0.1,\n",
    "    limit_train_batches=50,  # coment in for training, running valiation every 30 batches\n",
    "    # fast_dev_run=True,  # comment in to check that networkor dataset has no serious bugs\n",
    "    callbacks=[early_stop_callback]\n",
    ")\n",
    "\n",
    "tft = TemporalFusionTransformer.from_dataset(\n",
    "    training,\n",
    "    learning_rate=0.03,\n",
    "    hidden_size=16,\n",
    "    attention_head_size=2,\n",
    "    dropout=0.1,\n",
    "    hidden_continuous_size=8,\n",
    "    loss=QuantileLoss(),\n",
    "    log_interval=10,  # uncomment for learning rate finder and otherwise, e.g. to 10 for logging every 10 batches\n",
    "    optimizer=\"Ranger\",\n",
    "    reduce_on_plateau_patience=4,\n",
    ")\n",
    "print(f\"Number of parameters in network: {tft.size() / 1e3:.1f}k\")"
   ]
  },
  {
   "attachments": {},
   "cell_type": "markdown",
   "metadata": {},
   "source": [
    "# Following is not working"
   ]
  },
  {
   "cell_type": "code",
   "execution_count": 57,
   "metadata": {},
   "outputs": [],
   "source": [
    "from ranger21 import Ranger21\n"
   ]
  },
  {
   "cell_type": "code",
   "execution_count": 60,
   "metadata": {},
   "outputs": [
    {
     "name": "stderr",
     "output_type": "stream",
     "text": [
      "/home/jovyan/.conda/myenv/lib/python3.10/site-packages/lightning/pytorch/utilities/parsing.py:208: Attribute 'loss' is an instance of `nn.Module` and is already saved during checkpointing. It is recommended to ignore them using `self.save_hyperparameters(ignore=['loss'])`.\n",
      "/home/jovyan/.conda/myenv/lib/python3.10/site-packages/lightning/pytorch/utilities/parsing.py:208: Attribute 'logging_metrics' is an instance of `nn.Module` and is already saved during checkpointing. It is recommended to ignore them using `self.save_hyperparameters(ignore=['logging_metrics'])`.\n",
      "/home/jovyan/.conda/myenv/lib/python3.10/site-packages/pytorch_forecasting/models/temporal_fusion_transformer/__init__.py:143: UserWarning: In pytorch-forecasting models, on versions 1.1.X, the default optimizer defaults to 'adam', if pytorch_optimizer is not installed, otherwise it defaults to 'ranger' from pytorch_optimizer. From version 1.2.0, the default optimizer will be 'adam' regardless of whether pytorch_optimizer is installed, in order to minimize the number of dependencies in default parameter settings. Users who wish to ensure their code continues using 'ranger' as optimizer should ensure that pytorch_optimizer is installed, and set the optimizer parameter explicitly to 'ranger'.\n",
      "  super().__init__(loss=loss, logging_metrics=logging_metrics, **kwargs)\n",
      "\n",
      "   | Name                               | Type                            | Params | Mode \n",
      "------------------------------------------------------------------------------------------------\n",
      "0  | loss                               | MultiLoss                       | 0      | train\n",
      "1  | logging_metrics                    | ModuleList                      | 0      | train\n",
      "2  | input_embeddings                   | MultiEmbedding                  | 6.6 K  | train\n",
      "3  | prescalers                         | ModuleDict                      | 336    | train\n",
      "4  | static_variable_selection          | VariableSelectionNetwork        | 528    | train\n",
      "5  | encoder_variable_selection         | VariableSelectionNetwork        | 16.0 K | train\n",
      "6  | decoder_variable_selection         | VariableSelectionNetwork        | 11.8 K | train\n",
      "7  | static_context_variable_selection  | GatedResidualNetwork            | 1.1 K  | train\n",
      "8  | static_context_initial_hidden_lstm | GatedResidualNetwork            | 1.1 K  | train\n",
      "9  | static_context_initial_cell_lstm   | GatedResidualNetwork            | 1.1 K  | train\n",
      "10 | static_context_enrichment          | GatedResidualNetwork            | 1.1 K  | train\n",
      "11 | lstm_encoder                       | LSTM                            | 2.2 K  | train\n",
      "12 | lstm_decoder                       | LSTM                            | 2.2 K  | train\n",
      "13 | post_lstm_gate_encoder             | GatedLinearUnit                 | 544    | train\n",
      "14 | post_lstm_add_norm_encoder         | AddNorm                         | 32     | train\n",
      "15 | static_enrichment                  | GatedResidualNetwork            | 1.4 K  | train\n",
      "16 | multihead_attn                     | InterpretableMultiHeadAttention | 808    | train\n",
      "17 | post_attn_gate_norm                | GateAddNorm                     | 576    | train\n",
      "18 | pos_wise_ff                        | GatedResidualNetwork            | 1.1 K  | train\n",
      "19 | pre_output_gate_norm               | GateAddNorm                     | 576    | train\n",
      "20 | output_layer                       | ModuleList                      | 595    | train\n",
      "------------------------------------------------------------------------------------------------\n",
      "49.2 K    Trainable params\n",
      "0         Non-trainable params\n",
      "49.2 K    Total params\n",
      "0.197     Total estimated model params size (MB)\n",
      "729       Modules in train mode\n",
      "0         Modules in eval mode\n"
     ]
    },
    {
     "name": "stdout",
     "output_type": "stream",
     "text": [
      "Ranger21 optimizer ready with following settings:\n",
      "\n",
      "Core optimizer = AdamW\n",
      "Learning rate of 0.03\n",
      "\n",
      "Important - num_epochs of training = ** 50 epochs **\n",
      "please confirm this is correct or warmup and warmdown will be off\n",
      "\n",
      "Warm-up: linear warmup, over 2000 iterations\n",
      "\n",
      "Lookahead active, merging every 5 steps, with blend factor of 0.5\n",
      "Norm Loss active, factor = 0.0001\n",
      "Stable weight decay of 0.0001\n",
      "Gradient Centralization = On\n",
      "\n",
      "Adaptive Gradient Clipping = True\n",
      "\tclipping value of 0.01\n",
      "\tsteps for clipping = 0.001\n",
      "\n",
      "Warm-down: Linear warmdown, starting at 72.0%, iteration 11520 of 16000\n",
      "warm down will decay until 3e-05 lr\n"
     ]
    },
    {
     "data": {
      "application/vnd.jupyter.widget-view+json": {
       "model_id": "99e1321c9f1440588e0a5c2466c7c985",
       "version_major": 2,
       "version_minor": 0
      },
      "text/plain": [
       "Sanity Checking: |          | 0/? [00:00<?, ?it/s]"
      ]
     },
     "metadata": {},
     "output_type": "display_data"
    },
    {
     "name": "stderr",
     "output_type": "stream",
     "text": [
      "/home/jovyan/.conda/myenv/lib/python3.10/site-packages/lightning/pytorch/trainer/connectors/data_connector.py:424: The 'val_dataloader' does not have many workers which may be a bottleneck. Consider increasing the value of the `num_workers` argument` to `num_workers=15` in the `DataLoader` to improve performance.\n",
      "/home/jovyan/.conda/myenv/lib/python3.10/site-packages/lightning/pytorch/trainer/connectors/data_connector.py:424: The 'train_dataloader' does not have many workers which may be a bottleneck. Consider increasing the value of the `num_workers` argument` to `num_workers=15` in the `DataLoader` to improve performance.\n"
     ]
    },
    {
     "data": {
      "application/vnd.jupyter.widget-view+json": {
       "model_id": "0bba123083f54b13a8d65fcfebd396ec",
       "version_major": 2,
       "version_minor": 0
      },
      "text/plain": [
       "Training: |          | 0/? [00:00<?, ?it/s]"
      ]
     },
     "metadata": {},
     "output_type": "display_data"
    },
    {
     "ename": "",
     "evalue": "",
     "output_type": "error",
     "traceback": [
      "\u001b[1;31mCanceled future for execute_request message before replies were done"
     ]
    },
    {
     "ename": "",
     "evalue": "",
     "output_type": "error",
     "traceback": [
      "\u001b[1;31mThe Kernel crashed while executing code in the the current cell or a previous cell. Please review the code in the cell(s) to identify a possible cause of the failure. Click <a href='https://aka.ms/vscodeJupyterKernelCrash'>here</a> for more info. View Jupyter <a href='command:jupyter.viewOutput'>log</a> for further details."
     ]
    }
   ],
   "source": [
    "class CustomTFT(TemporalFusionTransformer):\n",
    "    def configure_optimizers(self):\n",
    "        # Initialize Ranger21 optimizer\n",
    "        optimizer = Ranger21(\n",
    "            self.parameters(),\n",
    "            lr=0.03,\n",
    "            num_epochs=50,\n",
    "            num_batches_per_epoch=len(train_dataloader),\n",
    "        )\n",
    "        return optimizer\n",
    "\n",
    "# Instantiate your custom TFT model\n",
    "tft = CustomTFT.from_dataset(\n",
    "    training,\n",
    "    learning_rate=0.03,\n",
    "    hidden_size=16,\n",
    "    attention_head_size=2,\n",
    "    dropout=0.1,\n",
    "    hidden_continuous_size=8,\n",
    "    loss=QuantileLoss(),\n",
    "    log_interval=10,\n",
    "    reduce_on_plateau_patience=4,\n",
    ")\n",
    "\n",
    "trainer.fit(\n",
    "    tft,\n",
    "    train_dataloaders=train_dataloader,\n",
    "    val_dataloaders=val_dataloader,\n",
    ")"
   ]
  }
 ],
 "metadata": {
  "kernelspec": {
   "display_name": "myenv",
   "language": "python",
   "name": "python3"
  },
  "language_info": {
   "codemirror_mode": {
    "name": "ipython",
    "version": 3
   },
   "file_extension": ".py",
   "mimetype": "text/x-python",
   "name": "python",
   "nbconvert_exporter": "python",
   "pygments_lexer": "ipython3",
   "version": "3.10.15"
  },
  "orig_nbformat": 4
 },
 "nbformat": 4,
 "nbformat_minor": 2
}
