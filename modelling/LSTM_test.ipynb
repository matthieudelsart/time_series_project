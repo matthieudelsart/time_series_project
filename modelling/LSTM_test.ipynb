{
 "cells": [
  {
   "cell_type": "code",
   "execution_count": null,
   "metadata": {},
   "outputs": [],
   "source": [
    "import numpy as np\n",
    "import pandas as pd\n",
    "import torch\n",
    "import torch.nn as nn\n",
    "import torch.optim as optim\n",
    "from sklearn.preprocessing import StandardScaler, LabelEncoder\n",
    "from sklearn.model_selection import train_test_split\n",
    "from torch.utils.data import Dataset, DataLoader\n",
    "from utils.preprocessing import preprocess_data"
   ]
  },
  {
   "cell_type": "code",
   "execution_count": null,
   "metadata": {},
   "outputs": [],
   "source": [
    "data_train = pd.read_csv('data/imputed_train.csv')\n",
    "data_test = pd.read_csv('data/test.csv')"
   ]
  },
  {
   "cell_type": "code",
   "execution_count": null,
   "metadata": {},
   "outputs": [],
   "source": [
    "preprocessed_train = preprocess_data(data_train)\n",
    "preprocessed_test = preprocess_data(data_test)"
   ]
  },
  {
   "cell_type": "code",
   "execution_count": null,
   "metadata": {},
   "outputs": [],
   "source": [
    "columns_to_drop= ['Year', 'Month', 'Weekday', 'Day', 'Hour']\n",
    "preprocessed_train = preprocessed_train.drop(columns = columns_to_drop)\n",
    "preprocessed_test = preprocessed_test.drop(columns = columns_to_drop)"
   ]
  },
  {
   "cell_type": "code",
   "execution_count": null,
   "metadata": {},
   "outputs": [],
   "source": [
    "nan_columns_train = preprocessed_train.columns[preprocessed_train.isna().any()].tolist()\n",
    "print(\"Columns with NaN values in preprocessed_train:\", nan_columns_train)"
   ]
  },
  {
   "cell_type": "code",
   "execution_count": null,
   "metadata": {},
   "outputs": [],
   "source": [
    "preprocessed_train.fillna(0, inplace=True)\n",
    "preprocessed_test.fillna(0, inplace=True)"
   ]
  },
  {
   "cell_type": "code",
   "execution_count": null,
   "metadata": {},
   "outputs": [],
   "source": [
    "target_cols = ['valeur_NO2', 'valeur_CO', 'valeur_O3', 'valeur_PM10', 'valeur_PM25']\n",
    "numeric_cols = ['precipitation', 'wind_speed', 'temperature', 'humidity', 'pressure', 'visibility']\n",
    "categorical_cols = ['is_holiday', 'is_jour_ferie', 'is_winter', 'is_spring', 'is_summer', 'is_fall', 'is_weekend']\n",
    "time_cols = ['DayOfYear_sin', 'DayOfYear_cos', 'HourOfDay_sin', 'HourOfDay_cos']\n"
   ]
  },
  {
   "cell_type": "code",
   "execution_count": null,
   "metadata": {},
   "outputs": [],
   "source": [
    "numeric_scaler = StandardScaler()\n",
    "\n",
    "preprocessed_train[numeric_cols] = numeric_scaler.fit_transform(preprocessed_train[numeric_cols])\n",
    "preprocessed_test[numeric_cols] = numeric_scaler.transform(preprocessed_test[numeric_cols])\n"
   ]
  },
  {
   "cell_type": "code",
   "execution_count": null,
   "metadata": {},
   "outputs": [],
   "source": [
    "target_scaler = StandardScaler()\n",
    "\n",
    "preprocessed_train[target_cols] = target_scaler.fit_transform(preprocessed_train[target_cols])\n",
    "\n",
    "    "
   ]
  },
  {
   "cell_type": "code",
   "execution_count": null,
   "metadata": {},
   "outputs": [],
   "source": [
    "class TimeSeriesDataset(Dataset):\n",
    "    def __init__(self, data, target_cols=None, seq_length=24):\n",
    "        self.data = data\n",
    "        self.target_cols = target_cols\n",
    "        self.seq_length = seq_length\n",
    "\n",
    "    def __len__(self):\n",
    "        # Return the full length of the dataset\n",
    "        return len(self.data)\n",
    "\n",
    "    def __getitem__(self, idx):\n",
    "        # Get the starting index for the sequence\n",
    "        start_idx = max(0, idx - self.seq_length + 1)  # Ensure we get enough history\n",
    "        seq = self.data[start_idx:idx + 1]  # Get the sequence up to the current index\n",
    "\n",
    "        # Pad sequence if it's shorter than seq_length\n",
    "        if len(seq) < self.seq_length:\n",
    "            pad_length = self.seq_length - len(seq)\n",
    "            # Pad with zeros (or another value) at the beginning\n",
    "            seq = np.pad(seq, ((pad_length, 0), (0, 0)), 'constant')\n",
    "\n",
    "        # Prepare features and labels\n",
    "        features = seq[:, :-len(self.target_cols)] if self.target_cols is not None else seq\n",
    "        labels = seq[-1, -len(self.target_cols):] if self.target_cols is not None else None\n",
    "\n",
    "        return (\n",
    "            torch.tensor(features, dtype=torch.float32),\n",
    "            torch.tensor(labels, dtype=torch.float32) if labels is not None else None\n",
    "        )"
   ]
  },
  {
   "cell_type": "code",
   "execution_count": null,
   "metadata": {},
   "outputs": [],
   "source": [
    "train_data = np.concatenate([preprocessed_train[numeric_cols].values, preprocessed_train[target_cols].values, preprocessed_train[time_cols].values], axis=1)  # Concatenate features and targets\n",
    "test_data = np.concatenate([preprocessed_test[numeric_cols].values, preprocessed_test[time_cols].values, np.full((len(preprocessed_test), len(target_cols)), np.nan)], axis=1)"
   ]
  },
  {
   "cell_type": "code",
   "execution_count": null,
   "metadata": {},
   "outputs": [],
   "source": [
    "train_dataset = TimeSeriesDataset(train_data, target_cols=target_cols, seq_length=24)\n",
    "test_dataset = TimeSeriesDataset(test_data, target_cols=target_cols, seq_length=24)\n"
   ]
  },
  {
   "cell_type": "code",
   "execution_count": null,
   "metadata": {},
   "outputs": [],
   "source": [
    "train_loader = DataLoader(train_dataset, batch_size=64, shuffle=True)\n",
    "test_loader = DataLoader(test_dataset, batch_size=64, shuffle=False)"
   ]
  },
  {
   "cell_type": "code",
   "execution_count": null,
   "metadata": {},
   "outputs": [],
   "source": [
    "class SimpleLSTM(nn.Module):\n",
    "    def __init__(self, input_size, hidden_size, output_size):\n",
    "        super(SimpleLSTM, self).__init__()\n",
    "        self.lstm = nn.LSTM(input_size, hidden_size, batch_first=True)\n",
    "        self.fc = nn.Linear(hidden_size, output_size)\n",
    "\n",
    "    def forward(self, x):\n",
    "        out, _ = self.lstm(x)\n",
    "        out = self.fc(out[:, -1, :]) \n",
    "        return out"
   ]
  },
  {
   "cell_type": "code",
   "execution_count": null,
   "metadata": {},
   "outputs": [],
   "source": [
    "input_size = len(numeric_cols)+ len(time_cols) \n",
    "hidden_size = 10  \n",
    "output_size = len(target_cols)"
   ]
  },
  {
   "cell_type": "code",
   "execution_count": null,
   "metadata": {},
   "outputs": [],
   "source": [
    "model = SimpleLSTM(input_size, hidden_size, output_size)\n",
    "optimizer = optim.Adam(model.parameters(), lr=0.001, weight_decay=1e-5)\n",
    "criterion = nn.MSELoss()"
   ]
  },
  {
   "cell_type": "code",
   "execution_count": null,
   "metadata": {},
   "outputs": [],
   "source": [
    "for epoch in range(20):  # Adjust number of epochs as needed\n",
    "    for batch_seq, labels in train_loader:\n",
    "        optimizer.zero_grad()\n",
    "        outputs = model(batch_seq)\n",
    "        loss = criterion(outputs, labels)\n",
    "        loss.backward()\n",
    "        optimizer.step()\n",
    "    print(f'Epoch {epoch + 1}, Loss: {loss.item()}')\n",
    "\n",
    "# Prediction on the test dataset\n",
    "model.eval()  # Set model to evaluation mode\n",
    "predictions = []\n",
    "with torch.no_grad():\n",
    "    for batch_seq, labels in test_loader:\n",
    "        outputs = model(batch_seq)\n",
    "        predictions.append(outputs.numpy())\n",
    "\n",
    "# Concatenate predictions\n",
    "predictions = np.concatenate(predictions, axis=0)\n",
    "print(predictions.shape)\n"
   ]
  },
  {
   "cell_type": "code",
   "execution_count": null,
   "metadata": {},
   "outputs": [],
   "source": [
    "predictions = target_scaler.inverse_transform(predictions)"
   ]
  },
  {
   "cell_type": "code",
   "execution_count": null,
   "metadata": {},
   "outputs": [],
   "source": [
    "\n",
    "\n",
    "# Create submission DataFrame\n",
    "submission = pd.DataFrame(predictions, columns=target_cols)\n",
    "n_predictions = len(predictions)\n",
    "\n",
    "# Align IDs: Start from seq_length - 1 to match the predictions\n",
    "submission['id'] = pd.to_datetime(preprocessed_test['id']).dt.strftime('%Y-%m-%d %H')\n",
    "submission = submission[['id'] + target_cols]\n",
    "# Save predictions to CSV\n",
    "submission.to_csv('submission_lstm_7.csv', index=False)\n",
    "\n",
    "print(\"Submission file created: submission.csv\")"
   ]
  },
  {
   "cell_type": "code",
   "execution_count": null,
   "metadata": {},
   "outputs": [],
   "source": []
  }
 ],
 "metadata": {
  "kernelspec": {
   "display_name": "base",
   "language": "python",
   "name": "python3"
  },
  "language_info": {
   "codemirror_mode": {
    "name": "ipython",
    "version": 3
   },
   "file_extension": ".py",
   "mimetype": "text/x-python",
   "name": "python",
   "nbconvert_exporter": "python",
   "pygments_lexer": "ipython3",
   "version": "3.10.13"
  }
 },
 "nbformat": 4,
 "nbformat_minor": 2
}
