{
 "cells": [
  {
   "cell_type": "markdown",
   "id": "489cb90f",
   "metadata": {},
   "source": [
    "## Setup"
   ]
  },
  {
   "cell_type": "code",
   "execution_count": 2,
   "id": "ef90bc4e",
   "metadata": {},
   "outputs": [],
   "source": [
    "# import all necessary libraries\n",
    "import xgboost as xgb\n",
    "from sklearn.model_selection import train_test_split\n",
    "from sklearn.metrics import mean_squared_error, r2_score\n",
    "import pandas as pd\n",
    "\n",
    "# Load the datasets\n",
    "train_data = pd.read_csv(\"data/imputed_train_v2.csv\")\n",
    "test_data = pd.read_csv(\"data/test.csv\")\n",
    "\n",
    "from utils.preprocessing import preprocess_data\n",
    "from utils.lagger import create_lags\n",
    "\n",
    "# Integrate feature engineering\n",
    "train_data = preprocess_data(train_data)\n",
    "test_data = preprocess_data(test_data)"
   ]
  },
  {
   "cell_type": "code",
   "execution_count": 4,
   "id": "4c10682e",
   "metadata": {},
   "outputs": [
    {
     "data": {
      "text/plain": [
       "Index(['id', 'valeur_NO2', 'valeur_CO', 'valeur_O3', 'valeur_PM10',\n",
       "       'valeur_PM25', 'is_holiday', 'is_jour_ferie', 'precipitation',\n",
       "       'wind_speed', 'temperature', 'humidity', 'pressure', 'visibility',\n",
       "       'global_solar_radiation', 'car_flow', 'Year', 'Month', 'Day',\n",
       "       'is_weekend', 'DayOfYear', 'HourOfDay', 'Weekday', 'DayOfYear_sin',\n",
       "       'DayOfYear_cos', 'HourOfDay_sin', 'HourOfDay_cos', 'Weekday_sin',\n",
       "       'Weekday_cos'],\n",
       "      dtype='object')"
      ]
     },
     "execution_count": 4,
     "metadata": {},
     "output_type": "execute_result"
    }
   ],
   "source": [
    "train_data.columns"
   ]
  },
  {
   "cell_type": "code",
   "execution_count": 9,
   "id": "f4fbaeb1",
   "metadata": {},
   "outputs": [],
   "source": [
    "# Create lags\n",
    "target_columns = ['valeur_NO2', 'valeur_CO', 'valeur_O3', 'valeur_PM10', 'valeur_PM25']\n",
    "columns_to_lag = [col for col in train_data.columns if col not in target_columns and col != 'id']\n",
    "train_data = create_lags(train_data, columns_to_lag, 3)\n",
    "test_data = create_lags(test_data, columns_to_lag, 3)"
   ]
  },
  {
   "cell_type": "code",
   "execution_count": 10,
   "id": "3aa3cf2e",
   "metadata": {},
   "outputs": [],
   "source": [
    "# Define target columns and separate features for training\n",
    "X_train = train_data.drop(columns=target_columns + ['id'], errors='ignore')\n",
    "y_train = train_data[target_columns]\n",
    "X_test = test_data.drop(columns=['id'], errors='ignore')"
   ]
  },
  {
   "cell_type": "markdown",
   "id": "f8855ea5",
   "metadata": {},
   "source": [
    "## Training & Prediction"
   ]
  },
  {
   "cell_type": "code",
   "execution_count": 11,
   "id": "dadc5bec",
   "metadata": {},
   "outputs": [
    {
     "name": "stdout",
     "output_type": "stream",
     "text": [
      "Metrics for valeur_NO2 on Validation Set:\n",
      "  Mean Squared Error (MSE): 30.12347422591089\n",
      "  Mean Absolute Error (MAE): 3.7735780215216064\n",
      "  R² Score: 0.7360373800727043\n",
      "\n",
      "Metrics for valeur_CO on Validation Set:\n",
      "  Mean Squared Error (MSE): 0.000706728301314382\n",
      "  Mean Absolute Error (MAE): 0.018804985331888194\n",
      "  R² Score: 0.7650885295927199\n",
      "\n",
      "Metrics for valeur_O3 on Validation Set:\n",
      "  Mean Squared Error (MSE): 78.46019126359869\n",
      "  Mean Absolute Error (MAE): 6.59976280782262\n",
      "  R² Score: 0.8435866260109809\n",
      "\n",
      "Metrics for valeur_PM10 on Validation Set:\n",
      "  Mean Squared Error (MSE): 16.303034086272714\n",
      "  Mean Absolute Error (MAE): 2.986491065923359\n",
      "  R² Score: 0.7049222693798469\n",
      "\n",
      "Metrics for valeur_PM25 on Validation Set:\n",
      "  Mean Squared Error (MSE): 6.622948546477786\n",
      "  Mean Absolute Error (MAE): 1.8950875234924058\n",
      "  R² Score: 0.7206825163444375\n",
      "\n",
      "Average MAE across all targets: 3.0547448808183755\n",
      "\n"
     ]
    }
   ],
   "source": [
    "from sklearn.metrics import mean_squared_error, mean_absolute_error, r2_score\n",
    "from sklearn.multioutput import MultiOutputRegressor\n",
    "\n",
    "# Split the training data for validation\n",
    "X_train_part, X_val, y_train_part, y_val = train_test_split(X_train, y_train, test_size=0.2, random_state=123)\n",
    "\n",
    "# Initialize the base XGBoost model\n",
    "xgb_model = xgb.XGBRegressor(\n",
    "    objective='reg:absoluteerror',\n",
    "    n_estimators=500,\n",
    "    learning_rate=0.1,\n",
    "    max_depth=10,\n",
    "    random_state=123\n",
    ")\n",
    "\n",
    "# Wrap the XGBoost model in MultiOutputRegressor for multi-target prediction\n",
    "multi_target_model = MultiOutputRegressor(xgb_model)\n",
    "\n",
    "# Train the model on the partial training set\n",
    "multi_target_model.fit(X_train_part, y_train_part)\n",
    "\n",
    "# Make predictions on the validation set\n",
    "y_val_pred = multi_target_model.predict(X_val)\n",
    "\n",
    "# Initialize list to store MAE for each target\n",
    "mae_values = []\n",
    "\n",
    "# Evaluate the model for each target column\n",
    "for i, target in enumerate(target_columns):\n",
    "    mse = mean_squared_error(y_val[target], y_val_pred[:, i])\n",
    "    mae = mean_absolute_error(y_val[target], y_val_pred[:, i])\n",
    "    r2 = r2_score(y_val[target], y_val_pred[:, i])\n",
    "    \n",
    "    mae_values.append(mae)\n",
    "    \n",
    "    print(f\"Metrics for {target} on Validation Set:\")\n",
    "    print(f\"  Mean Squared Error (MSE): {mse}\")\n",
    "    print(f\"  Mean Absolute Error (MAE): {mae}\")\n",
    "    print(f\"  R² Score: {r2}\\n\")\n",
    "\n",
    "# Calculate the average MAE across all targets\n",
    "average_mae = sum(mae_values) / len(mae_values)\n",
    "print(f\"Average MAE across all targets: {average_mae}\\n\")"
   ]
  },
  {
   "cell_type": "code",
   "execution_count": 17,
   "id": "9fd48795",
   "metadata": {},
   "outputs": [
    {
     "data": {
      "text/html": [
       "<div>\n",
       "<style scoped>\n",
       "    .dataframe tbody tr th:only-of-type {\n",
       "        vertical-align: middle;\n",
       "    }\n",
       "\n",
       "    .dataframe tbody tr th {\n",
       "        vertical-align: top;\n",
       "    }\n",
       "\n",
       "    .dataframe thead th {\n",
       "        text-align: right;\n",
       "    }\n",
       "</style>\n",
       "<table border=\"1\" class=\"dataframe\">\n",
       "  <thead>\n",
       "    <tr style=\"text-align: right;\">\n",
       "      <th></th>\n",
       "      <th>id</th>\n",
       "    </tr>\n",
       "  </thead>\n",
       "  <tbody>\n",
       "    <tr>\n",
       "      <th>0</th>\n",
       "      <td>2024-09-03 23</td>\n",
       "    </tr>\n",
       "    <tr>\n",
       "      <th>1</th>\n",
       "      <td>2024-09-04 00</td>\n",
       "    </tr>\n",
       "    <tr>\n",
       "      <th>2</th>\n",
       "      <td>2024-09-04 01</td>\n",
       "    </tr>\n",
       "    <tr>\n",
       "      <th>3</th>\n",
       "      <td>2024-09-04 02</td>\n",
       "    </tr>\n",
       "    <tr>\n",
       "      <th>4</th>\n",
       "      <td>2024-09-04 03</td>\n",
       "    </tr>\n",
       "  </tbody>\n",
       "</table>\n",
       "</div>"
      ],
      "text/plain": [
       "              id\n",
       "0  2024-09-03 23\n",
       "1  2024-09-04 00\n",
       "2  2024-09-04 01\n",
       "3  2024-09-04 02\n",
       "4  2024-09-04 03"
      ]
     },
     "execution_count": 17,
     "metadata": {},
     "output_type": "execute_result"
    }
   ],
   "source": [
    "test_data = pd.read_csv(\"data/test.csv\")\n",
    "test_data.head()"
   ]
  },
  {
   "cell_type": "code",
   "execution_count": 18,
   "id": "6a536475",
   "metadata": {},
   "outputs": [],
   "source": [
    "# create test set preditions\n",
    "y_test_pred = multi_target_model.predict(X_test)\n",
    "\n",
    "# Create DataFrame for predictions with the id column included\n",
    "test_predictions = pd.DataFrame(y_test_pred, columns=target_columns)\n",
    "test_predictions['id'] = test_data['id'].values  # Add the id column from test_data\n",
    "\n",
    "# Save test predictions with id to a CSV file\n",
    "test_predictions = test_predictions[['id'] + target_columns]  # Reorder to have id first\n",
    "test_predictions.to_csv(\"submissions/test_predictions.csv\", index=False)\n"
   ]
  }
 ],
 "metadata": {
  "kernelspec": {
   "display_name": "base",
   "language": "python",
   "name": "python3"
  },
  "language_info": {
   "codemirror_mode": {
    "name": "ipython",
    "version": 3
   },
   "file_extension": ".py",
   "mimetype": "text/x-python",
   "name": "python",
   "nbconvert_exporter": "python",
   "pygments_lexer": "ipython3",
   "version": "3.11.3"
  }
 },
 "nbformat": 4,
 "nbformat_minor": 5
}
